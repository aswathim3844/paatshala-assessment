{
  "nbformat": 4,
  "nbformat_minor": 0,
  "metadata": {
    "colab": {
      "provenance": [],
      "authorship_tag": "ABX9TyM3kRKvWZresWa+HKIS+RBH",
      "include_colab_link": true
    },
    "kernelspec": {
      "name": "python3",
      "display_name": "Python 3"
    },
    "language_info": {
      "name": "python"
    }
  },
  "cells": [
    {
      "cell_type": "markdown",
      "metadata": {
        "id": "view-in-github",
        "colab_type": "text"
      },
      "source": [
        "<a href=\"https://colab.research.google.com/github/aswathim3844/paatshala-assessment/blob/main/case_study_on_statistics.ipynb\" target=\"_parent\"><img src=\"https://colab.research.google.com/assets/colab-badge.svg\" alt=\"Open In Colab\"/></a>"
      ]
    },
    {
      "cell_type": "markdown",
      "source": [
        "1. Dataset: Monthly temperatures in a city (in °C): 12, 15, 14, 16, 18, 20, 22, 19,\n",
        "17, 15, 13, 10 Questions:\n",
        "a) Calculate the mean temperature.\n",
        "b) Calculate the median temperature.\n",
        "c) Find the mode of the temperature data.\n",
        "d) Range and Variance"
      ],
      "metadata": {
        "id": "iQOnipqmim2A"
      }
    },
    {
      "cell_type": "code",
      "execution_count": 20,
      "metadata": {
        "colab": {
          "base_uri": "https://localhost:8080/"
        },
        "id": "g5HFcG4dhHeb",
        "outputId": "74f56366-0140-439d-d7b3-92461b991d3d"
      },
      "outputs": [
        {
          "output_type": "stream",
          "name": "stdout",
          "text": [
            "mean of temperature :15.916666666666666\n",
            "median of temperature :15.5\n",
            "mode of temperature :15\n",
            "range of temperature : 12\n",
            "variance of temperature : 12.083333333333334\n"
          ]
        }
      ],
      "source": [
        "\n",
        "\n",
        "monthly_temp=[12, 15, 14, 16, 18, 20, 22, 19,17, 15, 13, 10 ]\n",
        "import statistics as stats\n",
        "\n",
        "#a) Calculate the mean temperature.\n",
        "mean_temperature= stats.mean(monthly_temp)\n",
        "\n",
        "print(f'mean of temperature :{mean_temperature}')\n",
        "\n",
        "# b)median tempertaure\n",
        "\n",
        "median_temperture= stats.median(monthly_temp)\n",
        "print(f'median of temperature :{median_temperture}')\n",
        "\n",
        "#c) Find the mode of the temperature data.\n",
        "mode_temperature = stats.mode(monthly_temp)\n",
        "print(f'mode of temperature :{mode_temperature}')\n",
        "\n",
        "#d) Range and Variance\n",
        "\n",
        "range_temperature = max(monthly_temp) - min(monthly_temp)\n",
        "print(f'range of temperature : {range_temperature}')\n",
        "\n",
        "variance_temp = stats.variance(monthly_temp)\n",
        "print(f'variance of temperature : {variance_temp}')\n"
      ]
    },
    {
      "cell_type": "markdown",
      "source": [
        "2. Dataset: Heights of students (in cm): 150, 160, 165, 170, 155, 160, 162, 168\n",
        "Questions: a) Calculate the range of the heights.\n",
        "b) Calculate the variance of the heights.\n",
        "c) Standard Deviation"
      ],
      "metadata": {
        "id": "OEBbpOgTl7AX"
      }
    },
    {
      "cell_type": "code",
      "source": [
        "heights_students=[150, 160, 165, 170, 155, 160, 162, 168]\n",
        "# range of the heights\n",
        "range_height= max(heights_students) -min(heights_students)\n",
        "print(\"range :\" ,range_height)\n",
        "\n",
        "#variance\n",
        "\n",
        "variance_height = stats.variance(heights_students)\n",
        "print(\"variance :\", variance_height)\n",
        "\n",
        "#standard deviation\n",
        "\n",
        "standard_deviation =stats.stdev(heights_students)\n",
        "print(\"standard deviation :\", standard_deviation)"
      ],
      "metadata": {
        "colab": {
          "base_uri": "https://localhost:8080/"
        },
        "id": "n1t2h82Rh8Gc",
        "outputId": "5414cd06-ec17-4a43-8a42-d88f3ec57573"
      },
      "execution_count": 21,
      "outputs": [
        {
          "output_type": "stream",
          "name": "stdout",
          "text": [
            "range : 20\n",
            "variance : 43.642857142857146\n",
            "standard deviation : 6.606274074155351\n"
          ]
        }
      ]
    },
    {
      "cell_type": "markdown",
      "source": [
        "Dataset: Weekly expenses (in $): 200, 250, 300, 220, 270, 290, 310\n",
        "Questions: a) Calculate the standard deviation of the weekly expenses."
      ],
      "metadata": {
        "id": "vtaTZQxinRRP"
      }
    },
    {
      "cell_type": "code",
      "source": [
        "weekly_expenses = [200, 250, 300, 220, 270, 290, 310]\n",
        "st_deviation = stats.stdev(weekly_expenses)\n",
        "print(\"standard deviation : \", st_deviation)"
      ],
      "metadata": {
        "colab": {
          "base_uri": "https://localhost:8080/"
        },
        "id": "V1d0NF51meW5",
        "outputId": "d1f790b3-70d0-48f7-929b-360e798e0138"
      },
      "execution_count": 22,
      "outputs": [
        {
          "output_type": "stream",
          "name": "stdout",
          "text": [
            "standard deviation :  41.5187851918806\n"
          ]
        }
      ]
    },
    {
      "cell_type": "markdown",
      "source": [
        " question 4\n",
        " Dataset: Advertising Spending (in $1000s): 10, 20, 15, 25, 30; Sales (in\n",
        "$1000s): 100, 150, 120, 180, 200\n",
        "Questions: a) Calculate the covariance between advertising spending and sales.\n",
        "b) Correlation"
      ],
      "metadata": {
        "id": "4ByqiGSMoa74"
      }
    },
    {
      "cell_type": "code",
      "source": [
        "ad_spending = [10,20,15,25,30]\n",
        "sales=[100, 150, 120, 180, 200]\n",
        "\n",
        "#covariance between advertising spending and sales\n",
        "\n",
        "mean_spending = sum(ad_spending)/len(ad_spending)\n",
        "mean_sales = sum(sales)/len(sales)\n",
        "\n",
        "cov_spending_sales = sum([(ad_spending[i]-mean_spending)*(sales[i]-mean_sales) for i in range(len(ad_spending))])/len(ad_spending)\n",
        "\n",
        "print(f'Covariance between advertising spending and sales: {cov_spending_sales}')\n",
        "\n",
        "#b) Correlation\n",
        "\n",
        "import statistics as stats\n",
        "\n",
        "std_dev_spending = stats.stdev(ad_spending)\n",
        "std_dev_sales = stats.stdev(sales)\n",
        "\n",
        "# Correlation formula: Covariance / (Std Dev of X * Std Dev of Y)\n",
        "correlation = cov_spending_sales / (std_dev_spending * std_dev_sales)\n",
        "\n",
        "print(f'Correlation between advertising spending and sales: {correlation}')"
      ],
      "metadata": {
        "colab": {
          "base_uri": "https://localhost:8080/"
        },
        "id": "7Qjq-TVsoTfs",
        "outputId": "f25dcc84-1a61-4a29-a470-f959ce966e79"
      },
      "execution_count": 23,
      "outputs": [
        {
          "output_type": "stream",
          "name": "stdout",
          "text": [
            "Covariance between advertising spending and sales: 260.0\n",
            "Correlation between advertising spending and sales: 0.7976435884012653\n"
          ]
        }
      ]
    },
    {
      "cell_type": "markdown",
      "source": [
        "5. Dataset: Study Hours: 2, 4, 6, 8, 10; Exam Scores: 55, 60, 65, 70, 75\n",
        "Questions: a) Calculate the correlation coefficient between study hours and exam\n",
        "scores.\n",
        "b) Interpret the result.\n",
        "c) Quartiles and IQR"
      ],
      "metadata": {
        "id": "eWTZz08Ks85w"
      }
    },
    {
      "cell_type": "code",
      "source": [
        "study_hours=[2,4,6,8,10]\n",
        "exam_scores = [55, 60, 65, 70, 75]\n",
        "\n",
        "# Calculate the correlation coefficient between study hours and exam scores\n",
        "\n",
        "mean_hr = sum(study_hours)/len(study_hours)\n",
        "mean_scores = sum(exam_scores)/len(exam_scores)\n",
        "cov_hour_scores=0\n",
        "for i in range(len(study_hours)):\n",
        "  cov_hour_scores +=(study_hours[i]-mean_hr)*(exam_scores[i]-mean_scores)\n",
        "cov_hour_scores=cov_hour_scores/len(study_hours)\n",
        "\n",
        "\n",
        "\n",
        "std_study =stats.stdev(study_hours)\n",
        "std_scores =stats.stdev(exam_scores)\n",
        "cor_hour_scores= cov_hour_scores/(std_study*std_scores)\n",
        "print('correlatiaon :' ,cor_hour_scores )\n",
        "\n",
        "#interpret the result\n",
        "\n",
        "print(\"correalation of .8 shows a strong postive correalation , which means as study hour increases the exam score will also increase\")\n",
        "\n",
        "# Quartiles and IQR\n",
        "\n",
        "import numpy as np\n",
        "Q1_hour= np.percentile(study_hours,25)\n",
        "Q2_hour= np.percentile(study_hours,50)\n",
        "Q3_hour= np.percentile(study_hours,75)\n",
        "\n",
        "IQR_hour = Q3_hour - Q1_hour\n",
        "\n",
        "Q1_SCORE= np.percentile(exam_scores,25)\n",
        "Q2_SCORE= np.percentile(exam_scores,50)\n",
        "Q3_SCORE= np.percentile(exam_scores,75)\n",
        "\n",
        "IQR_SCORE = Q3_SCORE - Q1_SCORE\n",
        "\n",
        "\n",
        "print(f'quartiles of study hours are Q1 :{Q1_hour}, Q2 :{Q2_hour}, Q3 :{Q3_hour} and IQR :{IQR_hour}')\n",
        "print(f'quartiles of exam score are Q1:{Q1_SCORE}, Q2:{Q2_SCORE}, Q3:{Q3_SCORE} and IQR:{IQR_SCORE}')\n",
        "\n"
      ],
      "metadata": {
        "colab": {
          "base_uri": "https://localhost:8080/"
        },
        "id": "nUApTvWTrbzx",
        "outputId": "02e7d9bf-a23a-4b38-8f21-79801ac97854"
      },
      "execution_count": 24,
      "outputs": [
        {
          "output_type": "stream",
          "name": "stdout",
          "text": [
            "correlatiaon : 0.8\n",
            "correalation of .8 shows a strong postive correalation , which means as study hour increases the exam score will also increase\n",
            "quartiles of study hours are Q1 :4.0, Q2 :6.0, Q3 :8.0 and IQR :4.0\n",
            "quartiles of exam score are Q1:60.0, Q2:65.0, Q3:70.0 and IQR:10.0\n"
          ]
        }
      ]
    },
    {
      "cell_type": "markdown",
      "source": [
        "6. Dataset: Monthly savings (in $): 200, 300, 400, 500, 600, 700, 800, 900, 1000,\n",
        "1100 Questions: a) Calculate the first quartile (Q1) and third quartile (Q3).\n",
        "b) Calculate the interquartile range (IQR).\n",
        "c) Detecting Outliers\n"
      ],
      "metadata": {
        "id": "tCN7odDZ3OoX"
      }
    },
    {
      "cell_type": "code",
      "source": [
        "monthly_savings = [200, 300, 400, 500, 600, 700, 800, 900, 1000, 1100]\n",
        "Q1 =np.percentile(monthly_savings,25)\n",
        "Q3= np.percentile(monthly_savings,75)\n",
        "\n",
        "IQR=Q3 - Q1\n",
        "\n",
        "print('q1 :' ,Q1)\n",
        "print('q3 :' ,Q3)\n",
        "print('IQR :' ,IQR)\n",
        "\n",
        "lower_bound=Q1-(1.5*IQR)\n",
        "upper_bound=Q3+(1.5*IQR)\n",
        "\n",
        "outlier=[]\n",
        "\n",
        "for i in monthly_savings:\n",
        "  if i<lower_bound or i> upper_bound :\n",
        "    outlier.append(i)\n",
        "if len(outlier)>0:\n",
        "   print(outlier)\n",
        "else:\n",
        "    print(\"no outlier\")\n"
      ],
      "metadata": {
        "colab": {
          "base_uri": "https://localhost:8080/"
        },
        "id": "nOKmogP_0hK8",
        "outputId": "10d3e045-cf2d-44c7-e18a-3c4046fd1421"
      },
      "execution_count": 25,
      "outputs": [
        {
          "output_type": "stream",
          "name": "stdout",
          "text": [
            "q1 : 425.0\n",
            "q3 : 875.0\n",
            "IQR : 450.0\n",
            "no outlier\n"
          ]
        }
      ]
    },
    {
      "cell_type": "markdown",
      "source": [
        "7. Dataset: Ages of employees: 22, 25, 28, 30, 35, 40, 45, 50, 55, 100\n",
        "Questions: a) Identify any outliers using the IQR method.\n"
      ],
      "metadata": {
        "id": "lzEuaZqQ-cx3"
      }
    },
    {
      "cell_type": "code",
      "source": [
        "import numpy as np\n",
        "age_employee=[ 22, 25, 28, 30, 35, 40, 45, 50, 55, 100]\n",
        "\n",
        "Q1_age =np.percentile(age_employee,25)\n",
        "Q3_age= np.percentile(age_employee,75)\n",
        "\n",
        "iqr_age= Q3_age-Q1_age\n",
        "lower_bound_age=Q1_age-(1.5*iqr_age)\n",
        "upper_bound_age=Q3_age+(1.5*iqr_age)\n",
        "\n",
        "\n",
        "\n",
        "outlier=[]\n",
        "\n",
        "for i in age_employee:\n",
        "  if i<lower_bound_age or i> upper_bound_age:\n",
        "    outlier.append(i)\n",
        "if len(outlier)>0:\n",
        "   print(outlier)\n",
        "else:\n",
        "    print(\"no outlier\")\n"
      ],
      "metadata": {
        "colab": {
          "base_uri": "https://localhost:8080/"
        },
        "id": "IlqBaZ9G7F4B",
        "outputId": "93a3272f-5c75-4fb8-ad72-fc6ae241ee75"
      },
      "execution_count": 26,
      "outputs": [
        {
          "output_type": "stream",
          "name": "stdout",
          "text": [
            "[100]\n"
          ]
        }
      ]
    },
    {
      "cell_type": "markdown",
      "source": [
        "9. Dataset: Sample weights (in kg) of a new diet program: 70, 68, 72, 71, 69, 73,\n",
        "72, 74, 70, 71 Questions: a) Test the hypothesis that the mean weight after the\n",
        "diet program is equal to 70 kg at a 5% significance level. b) Z-Scores"
      ],
      "metadata": {
        "id": "dZYFtVWkDRMC"
      }
    },
    {
      "cell_type": "code",
      "source": [
        "from scipy.stats import t\n",
        "\n",
        "\n",
        "weights = [70, 68, 72, 71, 69, 73, 72, 74, 70, 71]\n",
        "n = len(weights)\n",
        "\n",
        "\n",
        "mean_sample = sum(weights) / n\n",
        "\n",
        "variance = sum((x - mean_sample)**2 for x in weights) / (n - 1)\n",
        "std_dev = variance ** 0.5\n",
        "\n",
        "\n",
        "mu = 70\n",
        "t_stat = (mean_sample - mu) / (std_dev / (n ** 0.5))\n",
        "\n",
        "alpha = 0.05\n",
        "df = 9\n",
        "\n",
        "\n",
        "t_critical = t.ppf(1 - alpha/2, df)\n",
        "\n",
        "print(\"Critical t-value (two-tailed, α=0.05, df=9):\", t_critical)\n",
        "\n",
        "\n",
        "\n",
        "\n",
        "t_critical = 2.262\n",
        "if abs(t_stat) > t_critical:\n",
        "    result = \"Reject H₀: Mean is significantly different from 70 kg\"\n",
        "else:\n",
        "    result = \"Fail to reject H₀: No significant difference from 70 kg\"\n",
        "\n",
        "\n",
        "print(f\"Sample Mean: {mean_sample:.2f}\")\n",
        "print(f\"t-statistic: {t_stat:.3f}\")\n",
        "print(result)\n",
        "\n",
        "\n",
        "\n"
      ],
      "metadata": {
        "colab": {
          "base_uri": "https://localhost:8080/"
        },
        "id": "bmOPvG7hAeHI",
        "outputId": "1c1b893d-c6d4-4f16-c981-8acea9744aa8"
      },
      "execution_count": 31,
      "outputs": [
        {
          "output_type": "stream",
          "name": "stdout",
          "text": [
            "Critical t-value (two-tailed, α=0.05, df=9): 2.2621571628540993\n",
            "Sample Mean: 71.00\n",
            "t-statistic: 1.732\n",
            "Fail to reject H₀: No significant difference from 70 kg\n"
          ]
        }
      ]
    },
    {
      "cell_type": "code",
      "source": [
        "#b z score\n",
        "\n",
        "\n",
        "z_scores = [(x - mean_sample) / std_dev for x in weights]\n",
        "\n",
        "\n",
        "for i, z in enumerate(z_scores):\n",
        "    print(f\"Weight {weights[i]} kg → Z-score: {z:.2f}\")"
      ],
      "metadata": {
        "id": "5RIP0ZmFHe8q"
      },
      "execution_count": null,
      "outputs": []
    },
    {
      "cell_type": "markdown",
      "source": [
        "10. Dataset: Annual salaries of employees (in $1000s): 40, 42, 45, 47, 50, 52, 55,\n",
        "57, 60, 62 Questions: a) Calculate the z-scores for each salary.\n",
        "b) Interpret the z-scores.\n",
        "c) Normal Distribution\n"
      ],
      "metadata": {
        "id": "rQ5xd7xKKkzb"
      }
    },
    {
      "cell_type": "code",
      "source": [
        "employee_salaries =[40, 42, 45, 47, 50, 52, 55, 57, 60, 62]\n",
        "n = len(employee_salaries)\n",
        "\n",
        "\n",
        "mean_salary = sum(employee_salaries) / n\n",
        "\n",
        "variance_salary = sum((x - mean_sample)**2 for x in employee_salaries) / (n - 1)\n",
        "std_dev_salary = variance ** 0.5\n",
        "\n",
        "z_score_salary =[(x-mean_salary)/std_dev_salary for x in employee_salaries]\n",
        "\n",
        "for i,z in enumerate(z_score_salary):\n",
        "  print(f'salary:${employee_salaries[i]}k -> z score :{z}')\n"
      ],
      "metadata": {
        "id": "B8X8mnWXJl7E"
      },
      "execution_count": null,
      "outputs": []
    },
    {
      "cell_type": "code",
      "source": [
        "#b) Interpret the z-scores.\n",
        "print('These z-scores represent how each salary value deviates from the mean salary in a standardized way')\n",
        "print(\"Negative z-score → Below the mean Positive z-score → Above the mean  Z-score of 0 → Exactly at the mean\")\n"
      ],
      "metadata": {
        "colab": {
          "base_uri": "https://localhost:8080/"
        },
        "id": "kMhXnD79Luzg",
        "outputId": "ced7f399-20ec-419b-986c-3b2b807b61f5"
      },
      "execution_count": 32,
      "outputs": [
        {
          "output_type": "stream",
          "name": "stdout",
          "text": [
            "These z-scores represent how each salary value deviates from the mean salary in a standardized way\n",
            "Negative z-score → Below the mean Positive z-score → Above the mean  Z-score of 0 → Exactly at the mean\n"
          ]
        }
      ]
    },
    {
      "cell_type": "markdown",
      "source": [
        "11. . Dataset: Scores of students in a standardized test: 85, 87, 90, 92, 95, 97,\n",
        "100, 102, 105, 107\n",
        "Questions: a) Create a histogram of the test scores.\n",
        "b) Fit a normal distribution to the data and calculate the mean and standard\n",
        "deviation.\n",
        "c) P-Values"
      ],
      "metadata": {
        "id": "zQnynqDZPmRz"
      }
    },
    {
      "cell_type": "code",
      "source": [
        "scores_student=[85,87, 90, 92, 95, 97, 100, 102, 105, 107]\n",
        "\n",
        "n = len(scores_student)\n",
        "\n",
        "\n",
        "mean_scr = sum(scores_student) / n\n",
        "\n",
        "variance_scr= sum((x - mean_scr)**2 for x in scores_student) / (n - 1)\n",
        "std_dev_scr= variance_scr ** 0.5\n",
        "\n",
        "z_score_scr = [(x - mean_scr) / std_dev_scr for x in scores_student]\n",
        "print(z_score_scr)\n",
        "\n",
        "mean_score=sum(z_score_scr)/len(z_score_scr)\n",
        "print(mean_score)\n",
        "std=stats.stdev(z_score_scr)\n",
        "print(std)\n"
      ],
      "metadata": {
        "colab": {
          "base_uri": "https://localhost:8080/"
        },
        "id": "KpcIJvy8ONuI",
        "outputId": "c5d9056d-aa85-4906-d294-f18c820cb3f5"
      },
      "execution_count": 41,
      "outputs": [
        {
          "output_type": "stream",
          "name": "stdout",
          "text": [
            "[-1.4612645611411572, -1.1955800954791287, -0.7970533969860858, -0.5313689313240572, -0.1328422328310143, 0.1328422328310143, 0.5313689313240572, 0.7970533969860858, 1.1955800954791287, 1.4612645611411572]\n",
            "0.0\n",
            "1.0\n"
          ]
        }
      ]
    },
    {
      "cell_type": "code",
      "source": [
        "from scipy.stats import shapiro\n",
        "\n",
        "scores_student = [85,87,90,92,95,97,100,102,105,107]\n",
        "stat, p_value = shapiro(scores_student)\n",
        "print(f\"Shapiro-Wilk p-value: {p_value}\")\n",
        "\n"
      ],
      "metadata": {
        "colab": {
          "base_uri": "https://localhost:8080/"
        },
        "id": "v6EtXK2qSEKI",
        "outputId": "e8001a84-1289-4950-8577-e4de061b02c5"
      },
      "execution_count": 42,
      "outputs": [
        {
          "output_type": "stream",
          "name": "stdout",
          "text": [
            "Shapiro-Wilk p-value: 0.8349302637954983\n"
          ]
        }
      ]
    },
    {
      "cell_type": "code",
      "source": [],
      "metadata": {
        "id": "X2ww-pWrVzYt"
      },
      "execution_count": null,
      "outputs": []
    }
  ]
}