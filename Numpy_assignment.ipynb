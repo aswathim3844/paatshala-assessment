{
  "nbformat": 4,
  "nbformat_minor": 0,
  "metadata": {
    "colab": {
      "provenance": [],
      "authorship_tag": "ABX9TyM/4DrbAy8z8SmrmbHpk9hB",
      "include_colab_link": true
    },
    "kernelspec": {
      "name": "python3",
      "display_name": "Python 3"
    },
    "language_info": {
      "name": "python"
    }
  },
  "cells": [
    {
      "cell_type": "markdown",
      "metadata": {
        "id": "view-in-github",
        "colab_type": "text"
      },
      "source": [
        "<a href=\"https://colab.research.google.com/github/aswathim3844/paatshala-assessment/blob/main/Numpy_assignment.ipynb\" target=\"_parent\"><img src=\"https://colab.research.google.com/assets/colab-badge.svg\" alt=\"Open In Colab\"/></a>"
      ]
    },
    {
      "cell_type": "markdown",
      "source": [
        "1. Create a NumPy array with values from 10 to 49 (inclusive).\n",
        "● Reshape it into a 4x10 matrix.\n",
        "● Then extract the last column from the reshaped matrix\n",
        "-------------------------------------------------------------------------------------------------"
      ],
      "metadata": {
        "id": "tpiJSD3irwlx"
      }
    },
    {
      "cell_type": "code",
      "execution_count": null,
      "metadata": {
        "id": "6oA3mO4vrl6g",
        "colab": {
          "base_uri": "https://localhost:8080/"
        },
        "outputId": "e41ae0d3-75d6-422b-ed03-91c17b6761f0"
      },
      "outputs": [
        {
          "output_type": "execute_result",
          "data": {
            "text/plain": [
              "array([10, 11, 12, 13, 14, 15, 16, 17, 18, 19, 20, 21, 22, 23, 24, 25, 26,\n",
              "       27, 28, 29, 30, 31, 32, 33, 34, 35, 36, 37, 38, 39, 40, 41, 42, 43,\n",
              "       44, 45, 46, 47, 48, 49])"
            ]
          },
          "metadata": {},
          "execution_count": 3
        }
      ],
      "source": [
        "import numpy as np\n",
        "x=np.arange(10,50)\n",
        "x"
      ]
    },
    {
      "cell_type": "code",
      "source": [
        "x1=np.reshape(x,(4,10))\n",
        "x1"
      ],
      "metadata": {
        "colab": {
          "base_uri": "https://localhost:8080/"
        },
        "id": "i-oTHPUPsUmI",
        "outputId": "fdb7858b-58a5-4643-f717-5b3a5b57711e"
      },
      "execution_count": null,
      "outputs": [
        {
          "output_type": "execute_result",
          "data": {
            "text/plain": [
              "array([[10, 11, 12, 13, 14, 15, 16, 17, 18, 19],\n",
              "       [20, 21, 22, 23, 24, 25, 26, 27, 28, 29],\n",
              "       [30, 31, 32, 33, 34, 35, 36, 37, 38, 39],\n",
              "       [40, 41, 42, 43, 44, 45, 46, 47, 48, 49]])"
            ]
          },
          "metadata": {},
          "execution_count": 4
        }
      ]
    },
    {
      "cell_type": "code",
      "source": [
        "x1[3:4]"
      ],
      "metadata": {
        "colab": {
          "base_uri": "https://localhost:8080/"
        },
        "id": "pw7lm_t0s6H3",
        "outputId": "e7609dc7-2072-4d09-9601-47b7558c0b32"
      },
      "execution_count": null,
      "outputs": [
        {
          "output_type": "execute_result",
          "data": {
            "text/plain": [
              "array([[40, 41, 42, 43, 44, 45, 46, 47, 48, 49]])"
            ]
          },
          "metadata": {},
          "execution_count": 5
        }
      ]
    },
    {
      "cell_type": "markdown",
      "source": [
        "2.Create two 3×3 matrices:\n",
        "One filled with all 5s , One with values from 1 to 9\n",
        "● Add the two matrices\n",
        "● Multiply them element-wise\n",
        "● Then find the transpose of the result"
      ],
      "metadata": {
        "id": "FosBp3XttglD"
      }
    },
    {
      "cell_type": "code",
      "source": [
        "A=np.full((3,3),5)\n",
        "A"
      ],
      "metadata": {
        "colab": {
          "base_uri": "https://localhost:8080/"
        },
        "id": "prUR4xm7taZs",
        "outputId": "e7ea11e1-eec5-4a1f-dcab-79d5423a0791"
      },
      "execution_count": null,
      "outputs": [
        {
          "output_type": "execute_result",
          "data": {
            "text/plain": [
              "array([[5, 5, 5],\n",
              "       [5, 5, 5],\n",
              "       [5, 5, 5]])"
            ]
          },
          "metadata": {},
          "execution_count": 7
        }
      ]
    },
    {
      "cell_type": "code",
      "source": [
        "B=np.arange(1,10).reshape(3,3)\n",
        "display(B)"
      ],
      "metadata": {
        "colab": {
          "base_uri": "https://localhost:8080/",
          "height": 69
        },
        "id": "m5V10SSPuCXJ",
        "outputId": "6cd5fcdc-22da-4839-fd6f-61cbe36cbe8e"
      },
      "execution_count": null,
      "outputs": [
        {
          "output_type": "display_data",
          "data": {
            "text/plain": [
              "array([[1, 2, 3],\n",
              "       [4, 5, 6],\n",
              "       [7, 8, 9]])"
            ]
          },
          "metadata": {}
        }
      ]
    },
    {
      "cell_type": "code",
      "source": [
        "C=np.add(A,B)\n",
        "C"
      ],
      "metadata": {
        "colab": {
          "base_uri": "https://localhost:8080/"
        },
        "id": "yLJwNFSUuQjE",
        "outputId": "e2599af2-2134-4783-e88d-f5e10123bf98"
      },
      "execution_count": null,
      "outputs": [
        {
          "output_type": "execute_result",
          "data": {
            "text/plain": [
              "array([[ 6,  7,  8],\n",
              "       [ 9, 10, 11],\n",
              "       [12, 13, 14]])"
            ]
          },
          "metadata": {},
          "execution_count": 16
        }
      ]
    },
    {
      "cell_type": "code",
      "source": [
        "D = np.multiply(A,B)\n",
        "D"
      ],
      "metadata": {
        "colab": {
          "base_uri": "https://localhost:8080/"
        },
        "id": "ZXr-vj02u_Zb",
        "outputId": "4bf93bac-5ab1-42df-8a3f-20c419367b41"
      },
      "execution_count": null,
      "outputs": [
        {
          "output_type": "execute_result",
          "data": {
            "text/plain": [
              "array([[ 5, 10, 15],\n",
              "       [20, 25, 30],\n",
              "       [35, 40, 45]])"
            ]
          },
          "metadata": {},
          "execution_count": 17
        }
      ]
    },
    {
      "cell_type": "code",
      "source": [
        "D1=np.transpose(D)\n",
        "D1"
      ],
      "metadata": {
        "colab": {
          "base_uri": "https://localhost:8080/"
        },
        "id": "g99aHybMvRFd",
        "outputId": "c0f7ed78-4775-4d46-eab8-81e90b95d151"
      },
      "execution_count": null,
      "outputs": [
        {
          "output_type": "execute_result",
          "data": {
            "text/plain": [
              "array([[ 5, 20, 35],\n",
              "       [10, 25, 40],\n",
              "       [15, 30, 45]])"
            ]
          },
          "metadata": {},
          "execution_count": 18
        }
      ]
    },
    {
      "cell_type": "markdown",
      "source": [
        "3. Create a NumPy array of 15 random integers between 10 and 100.\n",
        "● Replace all values greater than 50 with -1\n",
        "● Count how many values were replaced."
      ],
      "metadata": {
        "id": "Hn67OhU1viMq"
      }
    },
    {
      "cell_type": "code",
      "source": [
        "E=np.random.randint(10,100,size=15)\n",
        "E\n"
      ],
      "metadata": {
        "colab": {
          "base_uri": "https://localhost:8080/"
        },
        "id": "BHK01bAAvfo1",
        "outputId": "004263d4-19c8-4f20-ad55-73f697275218"
      },
      "execution_count": null,
      "outputs": [
        {
          "output_type": "execute_result",
          "data": {
            "text/plain": [
              "array([71, 78, 41, 92, 10, 17, 13, 85, 83, 11, 60, 68, 69, 19, 65])"
            ]
          },
          "metadata": {},
          "execution_count": 24
        }
      ]
    },
    {
      "cell_type": "code",
      "source": [
        "updated=np.where(E>51,-1,E)\n",
        "updated"
      ],
      "metadata": {
        "colab": {
          "base_uri": "https://localhost:8080/"
        },
        "id": "X4Dy_aWvvzYI",
        "outputId": "382335d8-9aef-4768-dee1-6b175231de4d"
      },
      "execution_count": null,
      "outputs": [
        {
          "output_type": "execute_result",
          "data": {
            "text/plain": [
              "array([-1, -1, 41, -1, 10, 17, 13, -1, -1, 11, -1, -1, -1, 19, -1])"
            ]
          },
          "metadata": {},
          "execution_count": 25
        }
      ]
    },
    {
      "cell_type": "code",
      "source": [
        "np.sum(updated==-1)"
      ],
      "metadata": {
        "colab": {
          "base_uri": "https://localhost:8080/"
        },
        "id": "VYO_bMwfxwTC",
        "outputId": "616a041d-e224-46bf-e3c0-560366664ab3"
      },
      "execution_count": null,
      "outputs": [
        {
          "output_type": "execute_result",
          "data": {
            "text/plain": [
              "np.int64(9)"
            ]
          },
          "metadata": {},
          "execution_count": 31
        }
      ]
    },
    {
      "cell_type": "markdown",
      "source": [
        "4 .Generate a 5×4 array with random values between 0 and 1 (float).\n",
        "● Find the row with the maximum sum of values.\n",
        "● Normalize each row using the formula:"
      ],
      "metadata": {
        "id": "EVVTOe3q0xgx"
      }
    },
    {
      "cell_type": "code",
      "source": [
        "F=np.random.random((5,4))\n",
        "F"
      ],
      "metadata": {
        "colab": {
          "base_uri": "https://localhost:8080/"
        },
        "id": "jCoYmDAvy6Jn",
        "outputId": "c2678bae-fbcc-4ce3-b05f-4c35fa468376"
      },
      "execution_count": null,
      "outputs": [
        {
          "output_type": "execute_result",
          "data": {
            "text/plain": [
              "array([[0.31739657, 0.52554246, 0.25763395, 0.71431004],\n",
              "       [0.3788165 , 0.63871848, 0.5860855 , 0.91999964],\n",
              "       [0.39890242, 0.40740551, 0.5785003 , 0.17851866],\n",
              "       [0.62254945, 0.15540771, 0.14316536, 0.71882892],\n",
              "       [0.03042306, 0.06104198, 0.59443334, 0.1557181 ]])"
            ]
          },
          "metadata": {},
          "execution_count": 39
        }
      ]
    },
    {
      "cell_type": "code",
      "source": [
        "row_sum=np.sum(F,axis=1)\n",
        "np.argmax(row_sum)"
      ],
      "metadata": {
        "colab": {
          "base_uri": "https://localhost:8080/"
        },
        "id": "mo182jLB1ftR",
        "outputId": "151c92a1-c193-454b-c1a9-caf38aab4e1a"
      },
      "execution_count": null,
      "outputs": [
        {
          "output_type": "execute_result",
          "data": {
            "text/plain": [
              "np.int64(1)"
            ]
          },
          "metadata": {},
          "execution_count": 42
        }
      ]
    },
    {
      "cell_type": "code",
      "source": [
        "min_row=np.min(F,axis=1,keepdims=True)\n",
        "max_row=np.max(F,axis=1,keepdims=True)\n",
        "normalized=(F-min_row)/(max_row-min_row)\n",
        "normalized"
      ],
      "metadata": {
        "colab": {
          "base_uri": "https://localhost:8080/"
        },
        "id": "uG33r_ZO3dgW",
        "outputId": "9a919384-e88e-4b10-f44b-dad96236da34"
      },
      "execution_count": null,
      "outputs": [
        {
          "output_type": "execute_result",
          "data": {
            "text/plain": [
              "array([[0.13086436, 0.58664887, 0.        , 1.        ],\n",
              "       [0.        , 0.48024775, 0.38299234, 1.        ],\n",
              "       [0.55098468, 0.5722434 , 1.        , 0.        ],\n",
              "       [0.83275046, 0.02126651, 0.        , 1.        ],\n",
              "       [0.        , 0.05428788, 1.        , 0.22215027]])"
            ]
          },
          "metadata": {},
          "execution_count": 46
        }
      ]
    },
    {
      "cell_type": "markdown",
      "source": [
        "5. arr = np.array([1, 3, 5, 3, 7, 9, 1, 5, 5])\n",
        "● Find all unique elements\n",
        "● Find the duplicates (elements that appear more than once)"
      ],
      "metadata": {
        "id": "XhoPh6bA6dW6"
      }
    },
    {
      "cell_type": "code",
      "source": [
        "arr = np.array([1, 3, 5, 3, 7, 9, 1, 5, 5])\n",
        "unique_elements,counts=np.unique(arr,return_counts=True)\n",
        "print(unique_elements)\n",
        "print(counts)\n"
      ],
      "metadata": {
        "colab": {
          "base_uri": "https://localhost:8080/"
        },
        "id": "Fc7emGJV5Hw6",
        "outputId": "426bf492-b98f-4152-b818-93dd38de2301"
      },
      "execution_count": null,
      "outputs": [
        {
          "output_type": "stream",
          "name": "stdout",
          "text": [
            "[1 3 5 7 9]\n",
            "[2 2 3 1 1]\n"
          ]
        }
      ]
    },
    {
      "cell_type": "code",
      "source": [
        "duplicate_elements=unique_elements[counts > 1]\n",
        "duplicate_elements"
      ],
      "metadata": {
        "colab": {
          "base_uri": "https://localhost:8080/"
        },
        "id": "1eJ7-w91Cvy8",
        "outputId": "1011f6ec-aec6-4e64-e1bd-7e3a3f8c70ab"
      },
      "execution_count": null,
      "outputs": [
        {
          "output_type": "execute_result",
          "data": {
            "text/plain": [
              "array([1, 3, 5])"
            ]
          },
          "metadata": {},
          "execution_count": 66
        }
      ]
    },
    {
      "cell_type": "markdown",
      "source": [
        "6. Create a 6×6 NumPy array with values from 1 to 36.\n",
        "● Extract the middle 4×4 submatrix.\n",
        "● Then extract all even numbers from this submatrix."
      ],
      "metadata": {
        "id": "AQcwSaN4_7AF"
      }
    },
    {
      "cell_type": "code",
      "source": [
        "G=np.arange(1,37).reshape(6,6)\n",
        "G"
      ],
      "metadata": {
        "colab": {
          "base_uri": "https://localhost:8080/"
        },
        "id": "vw5Og7qDABLO",
        "outputId": "9bafb442-a277-4b09-b9de-1883c5d307cc"
      },
      "execution_count": null,
      "outputs": [
        {
          "output_type": "execute_result",
          "data": {
            "text/plain": [
              "array([[ 1,  2,  3,  4,  5,  6],\n",
              "       [ 7,  8,  9, 10, 11, 12],\n",
              "       [13, 14, 15, 16, 17, 18],\n",
              "       [19, 20, 21, 22, 23, 24],\n",
              "       [25, 26, 27, 28, 29, 30],\n",
              "       [31, 32, 33, 34, 35, 36]])"
            ]
          },
          "metadata": {},
          "execution_count": 61
        }
      ]
    },
    {
      "cell_type": "code",
      "source": [
        "middle=G[1:5,1:5]\n",
        "middle"
      ],
      "metadata": {
        "colab": {
          "base_uri": "https://localhost:8080/"
        },
        "id": "GqH6khtTAOfX",
        "outputId": "43bafb75-0576-480c-8419-bd5c37141316"
      },
      "execution_count": null,
      "outputs": [
        {
          "output_type": "execute_result",
          "data": {
            "text/plain": [
              "array([[ 8,  9, 10, 11],\n",
              "       [14, 15, 16, 17],\n",
              "       [20, 21, 22, 23],\n",
              "       [26, 27, 28, 29]])"
            ]
          },
          "metadata": {},
          "execution_count": 63
        }
      ]
    },
    {
      "cell_type": "code",
      "source": [
        "even=middle[middle%2==0]\n",
        "even"
      ],
      "metadata": {
        "colab": {
          "base_uri": "https://localhost:8080/"
        },
        "id": "da-c0SRPBVsr",
        "outputId": "834fa289-164b-4468-bf8d-2c7f3b8eb44c"
      },
      "execution_count": null,
      "outputs": [
        {
          "output_type": "execute_result",
          "data": {
            "text/plain": [
              "array([ 8, 10, 14, 16, 20, 22, 26, 28])"
            ]
          },
          "metadata": {},
          "execution_count": 76
        }
      ]
    },
    {
      "cell_type": "code",
      "source": [
        "even.reshape(2,4)"
      ],
      "metadata": {
        "colab": {
          "base_uri": "https://localhost:8080/"
        },
        "id": "RbTPY_97FAvY",
        "outputId": "884e05f0-8d2f-4d81-b73e-25746606e822"
      },
      "execution_count": null,
      "outputs": [
        {
          "output_type": "execute_result",
          "data": {
            "text/plain": [
              "array([[ 8, 10, 14, 16],\n",
              "       [20, 22, 26, 28]])"
            ]
          },
          "metadata": {},
          "execution_count": 77
        }
      ]
    },
    {
      "cell_type": "markdown",
      "source": [
        "7. Generate an array of shape (3, 4) with values from 0 to 11.\n",
        "● Reshape it to (2, 6)\n",
        "● Then flatten it into a 1D array\n",
        "● Convert the 1D array back to shape (4, 3)"
      ],
      "metadata": {
        "id": "hWNf5shsFsog"
      }
    },
    {
      "cell_type": "code",
      "source": [
        "H=np.arange(0,12).reshape(3,4)\n",
        "H"
      ],
      "metadata": {
        "colab": {
          "base_uri": "https://localhost:8080/"
        },
        "id": "EfAa1J86Fhh8",
        "outputId": "5a2eaf0e-ab43-4251-abaf-7e8d420c7204"
      },
      "execution_count": null,
      "outputs": [
        {
          "output_type": "execute_result",
          "data": {
            "text/plain": [
              "array([[ 0,  1,  2,  3],\n",
              "       [ 4,  5,  6,  7],\n",
              "       [ 8,  9, 10, 11]])"
            ]
          },
          "metadata": {},
          "execution_count": 80
        }
      ]
    },
    {
      "cell_type": "code",
      "source": [
        "H.reshape(2,6)"
      ],
      "metadata": {
        "colab": {
          "base_uri": "https://localhost:8080/"
        },
        "id": "aVD5K_FIGNaa",
        "outputId": "e345c14b-01da-4fc2-fc0e-0f0c8923bc43"
      },
      "execution_count": null,
      "outputs": [
        {
          "output_type": "execute_result",
          "data": {
            "text/plain": [
              "array([[ 0,  1,  2,  3,  4,  5],\n",
              "       [ 6,  7,  8,  9, 10, 11]])"
            ]
          },
          "metadata": {},
          "execution_count": 81
        }
      ]
    },
    {
      "cell_type": "code",
      "source": [
        "H.reshape(12)"
      ],
      "metadata": {
        "colab": {
          "base_uri": "https://localhost:8080/"
        },
        "id": "p_F7fewvGX62",
        "outputId": "24216245-2572-40fd-f705-dd50f8f8b59e"
      },
      "execution_count": null,
      "outputs": [
        {
          "output_type": "execute_result",
          "data": {
            "text/plain": [
              "array([ 0,  1,  2,  3,  4,  5,  6,  7,  8,  9, 10, 11])"
            ]
          },
          "metadata": {},
          "execution_count": 85
        }
      ]
    },
    {
      "cell_type": "code",
      "source": [
        "H.reshape(4,3)"
      ],
      "metadata": {
        "colab": {
          "base_uri": "https://localhost:8080/"
        },
        "id": "G_UXra_MGc3c",
        "outputId": "f4289c7b-3538-4511-86e6-39efb1bcb6e7"
      },
      "execution_count": null,
      "outputs": [
        {
          "output_type": "execute_result",
          "data": {
            "text/plain": [
              "array([[ 0,  1,  2],\n",
              "       [ 3,  4,  5],\n",
              "       [ 6,  7,  8],\n",
              "       [ 9, 10, 11]])"
            ]
          },
          "metadata": {},
          "execution_count": 83
        }
      ]
    },
    {
      "cell_type": "markdown",
      "source": [
        "8 . Create an array: a = np.array([[1, 2], [3, 4]])\n",
        "● Append a new row [5, 6]\n",
        "● Then append a new column [7, 8, 9]"
      ],
      "metadata": {
        "id": "rB4_ZX0-HlX7"
      }
    },
    {
      "cell_type": "code",
      "source": [
        "a = np.array([[1, 2], [3, 4]])\n",
        "a"
      ],
      "metadata": {
        "colab": {
          "base_uri": "https://localhost:8080/"
        },
        "id": "qOQaa4iYGipb",
        "outputId": "f76a4a1c-1918-42ac-c223-0bab4fce71bb"
      },
      "execution_count": null,
      "outputs": [
        {
          "output_type": "execute_result",
          "data": {
            "text/plain": [
              "array([[1, 2],\n",
              "       [3, 4]])"
            ]
          },
          "metadata": {},
          "execution_count": 96
        }
      ]
    },
    {
      "cell_type": "code",
      "source": [
        "new = np.array([[5, 6]])\n",
        "new_row = np.append(a, new, axis=0)\n",
        "new_row\n",
        "\n"
      ],
      "metadata": {
        "colab": {
          "base_uri": "https://localhost:8080/"
        },
        "id": "ISS66cd2H5UV",
        "outputId": "0b0ac048-ec05-4305-db4f-db61d623ec7a"
      },
      "execution_count": null,
      "outputs": [
        {
          "output_type": "execute_result",
          "data": {
            "text/plain": [
              "array([[1, 2],\n",
              "       [3, 4],\n",
              "       [5, 6]])"
            ]
          },
          "metadata": {},
          "execution_count": 100
        }
      ]
    },
    {
      "cell_type": "code",
      "source": [
        "\n",
        "newc = np.array([7, 8, 9]).reshape(3, 1)\n",
        "new_col = np.append(new_row, newc, axis=1)\n",
        "display(new_col)"
      ],
      "metadata": {
        "colab": {
          "base_uri": "https://localhost:8080/",
          "height": 69
        },
        "id": "QOGImJfqLb83",
        "outputId": "89e49f62-2467-405f-d23a-b3e02b15fa43"
      },
      "execution_count": null,
      "outputs": [
        {
          "output_type": "display_data",
          "data": {
            "text/plain": [
              "array([[1, 2, 7],\n",
              "       [3, 4, 8],\n",
              "       [5, 6, 9]])"
            ]
          },
          "metadata": {}
        }
      ]
    },
    {
      "cell_type": "markdown",
      "source": [
        "9.\n",
        "a = np.array([1, 2, 3])\n",
        "b = np.array([4, 5, 6])\n",
        "c = np.array([7, 8, 9])\n",
        "● Join them into a single array\n",
        "● Reshape the result into a 3×3 matrix\n",
        "● Extract the diagonal elements"
      ],
      "metadata": {
        "id": "QNKvYxQ6PktO"
      }
    },
    {
      "cell_type": "code",
      "source": [
        "a = np.array([1, 2, 3])\n",
        "b = np.array([4, 5, 6])\n",
        "c = np.array([7, 8, 9])\n",
        "d=np.concatenate([a,b,c])\n",
        "d"
      ],
      "metadata": {
        "colab": {
          "base_uri": "https://localhost:8080/"
        },
        "id": "rYNffhjsP9nF",
        "outputId": "e9b3ae44-2163-4022-8642-9dc5f38cbce0"
      },
      "execution_count": null,
      "outputs": [
        {
          "output_type": "execute_result",
          "data": {
            "text/plain": [
              "array([1, 2, 3, 4, 5, 6, 7, 8, 9])"
            ]
          },
          "metadata": {},
          "execution_count": 120
        }
      ]
    },
    {
      "cell_type": "code",
      "source": [
        "d_reshape=d.reshape((3,3))\n",
        "d_reshape"
      ],
      "metadata": {
        "colab": {
          "base_uri": "https://localhost:8080/"
        },
        "id": "0z4gTjwDQNPr",
        "outputId": "dca6728e-5a16-4fc5-fb77-258a987ab51d"
      },
      "execution_count": null,
      "outputs": [
        {
          "output_type": "execute_result",
          "data": {
            "text/plain": [
              "array([[1, 2, 3],\n",
              "       [4, 5, 6],\n",
              "       [7, 8, 9]])"
            ]
          },
          "metadata": {},
          "execution_count": 126
        }
      ]
    },
    {
      "cell_type": "code",
      "source": [
        "d_diagonal=np.diag(d_reshape)\n",
        "d_diagonal"
      ],
      "metadata": {
        "colab": {
          "base_uri": "https://localhost:8080/"
        },
        "id": "Cw0v7reUQ73I",
        "outputId": "cdf1ac96-aec4-4a43-d4ab-386c89cbeace"
      },
      "execution_count": null,
      "outputs": [
        {
          "output_type": "execute_result",
          "data": {
            "text/plain": [
              "array([1, 5, 9])"
            ]
          },
          "metadata": {},
          "execution_count": 128
        }
      ]
    },
    {
      "cell_type": "markdown",
      "source": [
        "10. Create a NumPy array of integers from 1 to 20.\n",
        "● Extract all values that are divisible by 3 or 5.\n",
        "● Count how many such values exist."
      ],
      "metadata": {
        "id": "fjTPMxufTbaF"
      }
    },
    {
      "cell_type": "code",
      "source": [
        "j=np.arange(1,20)"
      ],
      "metadata": {
        "id": "8QM_vBhpRWWK"
      },
      "execution_count": null,
      "outputs": []
    },
    {
      "cell_type": "code",
      "source": [
        "h=j[(j%3==0)| (j%5==0)]\n",
        "h"
      ],
      "metadata": {
        "colab": {
          "base_uri": "https://localhost:8080/"
        },
        "id": "U2XlcnFdTljn",
        "outputId": "c0440480-db74-40d6-a364-b7a8b7398826"
      },
      "execution_count": null,
      "outputs": [
        {
          "output_type": "execute_result",
          "data": {
            "text/plain": [
              "array([ 3,  5,  6,  9, 10, 12, 15, 18])"
            ]
          },
          "metadata": {},
          "execution_count": 136
        }
      ]
    },
    {
      "cell_type": "code",
      "source": [
        "h.size"
      ],
      "metadata": {
        "colab": {
          "base_uri": "https://localhost:8080/"
        },
        "id": "6oGClOSmUd4n",
        "outputId": "279f2008-427d-4885-de7d-2e50db7ba79f"
      },
      "execution_count": null,
      "outputs": [
        {
          "output_type": "execute_result",
          "data": {
            "text/plain": [
              "8"
            ]
          },
          "metadata": {},
          "execution_count": 138
        }
      ]
    },
    {
      "cell_type": "code",
      "source": [],
      "metadata": {
        "id": "eSAjexX2VPP2"
      },
      "execution_count": null,
      "outputs": []
    }
  ]
}