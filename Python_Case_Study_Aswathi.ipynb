{
  "nbformat": 4,
  "nbformat_minor": 0,
  "metadata": {
    "colab": {
      "provenance": [],
      "include_colab_link": true
    },
    "kernelspec": {
      "name": "python3",
      "display_name": "Python 3"
    },
    "language_info": {
      "name": "python"
    }
  },
  "cells": [
    {
      "cell_type": "markdown",
      "metadata": {
        "id": "view-in-github",
        "colab_type": "text"
      },
      "source": [
        "<a href=\"https://colab.research.google.com/github/aswathim3844/paatshala-assessment/blob/main/Python_Case_Study_Aswathi.ipynb\" target=\"_parent\"><img src=\"https://colab.research.google.com/assets/colab-badge.svg\" alt=\"Open In Colab\"/></a>"
      ]
    },
    {
      "cell_type": "markdown",
      "source": [
        "# Answer the following questions using only builtin Python datatypes and functions. Do not use Numpy or Scipy (i.e. No library imports allowed)"
      ],
      "metadata": {
        "id": "zVV_KMSIUG-A"
      }
    },
    {
      "cell_type": "markdown",
      "source": [
        "# Q1. Write a function that return the range (maximum and minimun) of a given list of numbers"
      ],
      "metadata": {
        "id": "uZnK7VgWV5SI"
      }
    },
    {
      "cell_type": "code",
      "source": [
        "\n",
        "data=input(\"enter the number\").split(\",\")\n",
        "\n",
        "def min_max(data):\n",
        "  min_data=data[0]\n",
        "  max_data=data[0]\n",
        "\n",
        "  for i in data:\n",
        "    if i<min_data:\n",
        "      min_data=i\n",
        "\n",
        "    if i>max_data:\n",
        "      max_data=i\n",
        "\n",
        "\n",
        "  print(min_data)\n",
        "  print(max_data)\n",
        "min_max(data)\n"
      ],
      "metadata": {
        "colab": {
          "base_uri": "https://localhost:8080/"
        },
        "id": "y7n3RgPprIpG",
        "outputId": "7c93d799-d68e-436e-930d-18086562e58c"
      },
      "execution_count": null,
      "outputs": [
        {
          "output_type": "stream",
          "name": "stdout",
          "text": [
            "enter the number12,52,58\n",
            "12\n",
            "58\n"
          ]
        }
      ]
    },
    {
      "cell_type": "markdown",
      "source": [
        "## Q2. Write function that returns mean value of a list of numbers"
      ],
      "metadata": {
        "id": "Y5_v5a8_U1O-"
      }
    },
    {
      "cell_type": "code",
      "source": [
        "data2=[2,5,6,7,5,9.12]\n",
        "\n",
        "def mean_function(data):\n",
        "  total=0\n",
        "  for i in (data):\n",
        "    total+=i\n",
        "\n",
        "  length=len(data)\n",
        "  mean=total/length\n",
        "\n",
        "\n",
        "  print(mean)\n",
        "mean_function(data2)\n"
      ],
      "metadata": {
        "id": "RajjEyacU7Sc",
        "colab": {
          "base_uri": "https://localhost:8080/"
        },
        "outputId": "9aec44be-9282-43a2-accd-5943a37644a3"
      },
      "execution_count": null,
      "outputs": [
        {
          "output_type": "stream",
          "name": "stdout",
          "text": [
            "5.6866666666666665\n"
          ]
        }
      ]
    },
    {
      "cell_type": "markdown",
      "source": [
        "# Q3. Write a function that returns the median value of a list of numbers"
      ],
      "metadata": {
        "id": "OpeRxoEoVTIP"
      }
    },
    {
      "cell_type": "code",
      "source": [
        "def median_value(data):\n",
        "   data.sort()\n",
        "   middle_index=len(data)//2\n",
        "\n",
        "   if len(data)%2!=0:\n",
        "      med=data[middle_index]\n",
        "   else:\n",
        "      med=(data[middle_index-1]+data[middle_index])/2\n",
        "\n",
        "\n",
        "   print(med)\n",
        "\n",
        "data3=[12,45,52,23,54]\n",
        "median_value(data3)\n"
      ],
      "metadata": {
        "id": "u1CUy0UOVaQi",
        "colab": {
          "base_uri": "https://localhost:8080/"
        },
        "outputId": "fd816d6d-a3f1-4b07-e871-3ef5431d701c"
      },
      "execution_count": null,
      "outputs": [
        {
          "output_type": "stream",
          "name": "stdout",
          "text": [
            "45\n"
          ]
        }
      ]
    },
    {
      "cell_type": "markdown",
      "source": [
        "## Q4. Write a function to return the mod of a list of numbers, if no mod exists, it should return None. If more than one mod exist, return the mod values as list"
      ],
      "metadata": {
        "id": "2EMOG7AZSqVn"
      }
    },
    {
      "cell_type": "code",
      "execution_count": null,
      "metadata": {
        "id": "qnMm2dhhSk3-",
        "colab": {
          "base_uri": "https://localhost:8080/"
        },
        "outputId": "31f8df70-f5dd-4614-a301-dcd38ae1bf92"
      },
      "outputs": [
        {
          "output_type": "stream",
          "name": "stdout",
          "text": [
            "none\n"
          ]
        }
      ],
      "source": [
        "def mode_function(data):\n",
        "  freq={}\n",
        "\n",
        "  for num in data:\n",
        "\n",
        "    if num in freq:\n",
        "      freq[num]+=1\n",
        "    else:\n",
        "      freq[num]=1\n",
        "\n",
        "  mode_list=[]\n",
        "  max_freq=1\n",
        "\n",
        "  for num,value in freq.items():\n",
        "    if value>max_freq:\n",
        "      max_freq=value\n",
        "      mode_list=[num]\n",
        "    elif value==max_freq:\n",
        "      mode_list.append(num)\n",
        "\n",
        "\n",
        "  if max_freq==1:\n",
        "    print(\"none\")\n",
        "  elif len(mode_list)==1:\n",
        "    return mode_list\n",
        "  elif len(mode_list)>1:\n",
        "    return mode_list\n",
        "\n",
        "\n",
        "data5=[2,5,6,7,8,9]\n",
        "mode_function(data5)\n",
        "\n"
      ]
    },
    {
      "cell_type": "markdown",
      "source": [
        "## Q5. Write function to compute a given percentile value (e.g. 90th percentile) of a list of numbers"
      ],
      "metadata": {
        "id": "LcqWwqtgTCiL"
      }
    },
    {
      "cell_type": "code",
      "source": [
        "def percentile(data):\n",
        "\n",
        "  data.sort()\n",
        "\n",
        "  length=len(data)\n",
        "  index=length*.9\n",
        "\n",
        "  int_index=int(index)\n",
        "  perct=data[int_index]\n",
        "\n",
        "  print(perct)\n",
        "\n",
        "data6=[12,56,48,52,47,56,85,110,112]\n",
        "percentile(data6)"
      ],
      "metadata": {
        "id": "Sn307h0TTb2b",
        "colab": {
          "base_uri": "https://localhost:8080/"
        },
        "outputId": "c715091d-153a-4fd6-9925-a13a902218aa"
      },
      "execution_count": null,
      "outputs": [
        {
          "output_type": "stream",
          "name": "stdout",
          "text": [
            "112\n"
          ]
        }
      ]
    },
    {
      "cell_type": "markdown",
      "source": [
        "# Q6. Write a function that returns the lower bound of a list of numbers"
      ],
      "metadata": {
        "id": "N-TYHkDcWOfS"
      }
    },
    {
      "cell_type": "code",
      "source": [
        "def lower_upper_bound(data):\n",
        "  data.sort()\n",
        "  length=len(data)\n",
        "\n",
        "  q1_index=length*.25\n",
        "  q3_index=length*.75\n",
        "\n",
        "  int_q1=int(q1_index)\n",
        "  int_q3=int(q3_index)\n",
        "\n",
        "  Q1=data[int_q1]\n",
        "  Q3=data[int_q3]\n",
        "\n",
        "  IQR=Q3-Q1\n",
        "\n",
        "\n",
        "  Lower_whisker=Q1-(IQR*1.5)\n",
        "  print(Lower_whisker)\n",
        "  Upper_whisker=Q3+(IQR*1.5)\n",
        "  print(Upper_whisker)\n",
        "\n",
        "data7=[45,85,56,47,123,145,59]\n",
        "lower_upper_bound(data7)\n"
      ],
      "metadata": {
        "id": "Y-RKPdKuW5nx",
        "colab": {
          "base_uri": "https://localhost:8080/"
        },
        "outputId": "dde0409b-1ae0-4dab-c8d1-5b62a51523c1"
      },
      "execution_count": null,
      "outputs": [
        {
          "output_type": "stream",
          "name": "stdout",
          "text": [
            "-67.0\n",
            "237.0\n"
          ]
        }
      ]
    },
    {
      "cell_type": "markdown",
      "source": [
        "## Q7. Write function to return any outliers from a given list of numbers, if no outliers present it should return None"
      ],
      "metadata": {
        "id": "5aHfaI_jThpX"
      }
    },
    {
      "cell_type": "code",
      "source": [
        "def outlier(data):\n",
        "  data.sort()\n",
        "  length=len(data)\n",
        "\n",
        "  q1_index=length*.25\n",
        "  q3_index=length*.75\n",
        "\n",
        "  int_q1=int(q1_index)\n",
        "  int_q3=int(q3_index)\n",
        "\n",
        "  Q1=data[int_q1]\n",
        "  Q3=data[int_q3]\n",
        "\n",
        "  IQR=Q3-Q1\n",
        "\n",
        "\n",
        "  Lower_whisker=Q1-(IQR*1.5)\n",
        "\n",
        "  Upper_whisker=Q3+(IQR*1.5)\n",
        "\n",
        "  outlier=[]\n",
        "  for i in data :\n",
        "     if i< Lower_whisker or i> Upper_whisker:\n",
        "       outlier.append(i)\n",
        "\n",
        "  if len(outlier)>0:\n",
        "      return outlier\n",
        "  else:\n",
        "      return None\n",
        "\n",
        "data8=[45,85,56,47,123,145,59,220,256,500]\n",
        "print(outlier(data8))\n"
      ],
      "metadata": {
        "id": "gG6-qzT7T0Si",
        "colab": {
          "base_uri": "https://localhost:8080/"
        },
        "outputId": "b21d495a-1cd8-4457-fde0-9f4b122f6b47"
      },
      "execution_count": null,
      "outputs": [
        {
          "output_type": "stream",
          "name": "stdout",
          "text": [
            "[500]\n"
          ]
        }
      ]
    },
    {
      "cell_type": "markdown",
      "source": [
        "##Q8. Write a function to return standard deviation of a list of numbers"
      ],
      "metadata": {
        "id": "jI9t-tcDT5EK"
      }
    },
    {
      "cell_type": "code",
      "source": [
        "def standard_deviation(data):\n",
        " mean=sum(data)/len(data)\n",
        "\n",
        " sum_of_sqaured_difference = 0\n",
        " for i in data:\n",
        "  sum_of_sqaured_difference+=((i-mean)**2)\n",
        "\n",
        " variance=sum_of_sqaured_difference/len(data)\n",
        " standard_dev=variance**.5\n",
        "\n",
        " return standard_dev\n",
        "\n",
        "\n",
        "data9=[45,85,56,47,123,145,59,220,256]\n",
        "print(standard_deviation(data9))"
      ],
      "metadata": {
        "id": "MMU_cMlLUFxJ",
        "colab": {
          "base_uri": "https://localhost:8080/"
        },
        "outputId": "0a765c9b-7761-4f6b-dda5-262def36f639"
      },
      "execution_count": null,
      "outputs": [
        {
          "output_type": "stream",
          "name": "stdout",
          "text": [
            "73.71935437777886\n"
          ]
        }
      ]
    },
    {
      "cell_type": "markdown",
      "source": [],
      "metadata": {
        "id": "s4hVBWNYob40"
      }
    },
    {
      "cell_type": "markdown",
      "source": [
        "## Q9. Write function to compute and return Z-score values of a list of numbers"
      ],
      "metadata": {
        "id": "LufmQDJPURkM"
      }
    },
    {
      "cell_type": "code",
      "source": [
        "def Z_score(data):\n",
        " mean=sum(data)/len(data)\n",
        "\n",
        " sum_of_difference = 0\n",
        " for i in data:\n",
        "  sum_of_difference+=((i-mean))\n",
        "\n",
        " variance=sum_of_difference/len(data)\n",
        " standard_dev=variance**.5\n",
        "\n",
        " z_score=[]\n",
        " for x in data:\n",
        "    z=(x-mean)/standard_dev\n",
        "    z_score.append(z)\n",
        " return z_score\n",
        "\n",
        "data10=[45,85,56,47,123,145,59,220,256,45]\n",
        "Z_score(data10)\n",
        "\n"
      ],
      "metadata": {
        "id": "ml2qpSpFUYxV",
        "colab": {
          "base_uri": "https://localhost:8080/"
        },
        "outputId": "1f7342e6-a2c0-4b87-9213-91c5da003a99"
      },
      "execution_count": null,
      "outputs": [
        {
          "output_type": "execute_result",
          "data": {
            "text/plain": [
              "[-836930247.2506725,\n",
              " -306388093.6844775,\n",
              " -691031155.0199689,\n",
              " -810403139.5723627,\n",
              " 197626952.2034077,\n",
              " 489425136.6648149,\n",
              " -651240493.5025042,\n",
              " 1484191674.6014304,\n",
              " 1961679612.8110058,\n",
              " -836930247.2506725]"
            ]
          },
          "metadata": {},
          "execution_count": 89
        }
      ]
    },
    {
      "cell_type": "markdown",
      "source": [
        "## Q10. Write a function to compute and return the Pearson correlation coefficient value of two list of numbers"
      ],
      "metadata": {
        "id": "YQSNHIfxUb6s"
      }
    },
    {
      "cell_type": "code",
      "source": [
        "def calculate_mean(data):\n",
        "\n",
        "    return sum(data) / len(data)\n",
        "\n",
        "def calculate_standard_deviation(data):\n",
        "    mean = calculate_mean(data)\n",
        "    sum_of_squared_differences = sum([(x - mean) ** 2 for x in data])\n",
        "    variance = sum_of_squared_differences / (len(data) - 1)\n",
        "    return (variance)**.5\n",
        "\n",
        "def pearson_correlation(list_x, list_y):\n",
        "\n",
        "    mean_x = calculate_mean(list_x)\n",
        "    mean_y = calculate_mean(list_y)\n",
        "\n",
        "    std_dev_x = calculate_standard_deviation(list_x)\n",
        "    std_dev_y = calculate_standard_deviation(list_y)\n",
        "\n",
        "\n",
        "    numerator = sum([(x - mean_x) * (y - mean_y) for x, y in zip(list_x, list_y)])\n",
        "\n",
        "\n",
        "    denominator = (len(list_x) - 1) * std_dev_x * std_dev_y\n",
        "\n",
        "\n",
        "    correlation = numerator / denominator\n",
        "\n",
        "    return correlation\n",
        "\n",
        "\n",
        "x1 = [1, 2, 3, 4, 5]\n",
        "y1 = [2, 4, 5, 4, 6]\n",
        "corr1 = pearson_correlation(x1, y1)\n",
        "print(f\"Lists X: {x1}\")\n",
        "print(f\"Lists Y: {y1}\")\n",
        "print(f\"Correlation: {corr1:.2f}\")\n"
      ],
      "metadata": {
        "id": "1YGqr3T6Uk6H",
        "colab": {
          "base_uri": "https://localhost:8080/"
        },
        "outputId": "f828ab71-69d5-4834-a82e-283dc2884579"
      },
      "execution_count": null,
      "outputs": [
        {
          "output_type": "stream",
          "name": "stdout",
          "text": [
            "Lists X: [1, 2, 3, 4, 5]\n",
            "Lists Y: [2, 4, 5, 4, 6]\n",
            "Correlation: 0.85\n"
          ]
        }
      ]
    },
    {
      "cell_type": "code",
      "source": [],
      "metadata": {
        "id": "1BxIUiMaz-Es"
      },
      "execution_count": null,
      "outputs": []
    }
  ]
}